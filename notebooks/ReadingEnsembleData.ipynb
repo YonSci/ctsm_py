{
 "cells": [
  {
   "cell_type": "markdown",
   "metadata": {},
   "source": [
    "## Reading ensemble output"
   ]
  },
  {
   "cell_type": "markdown",
   "metadata": {},
   "source": [
    "### Import modules"
   ]
  },
  {
   "cell_type": "code",
   "execution_count": 1,
   "metadata": {},
   "outputs": [],
   "source": [
    "import xarray as xr"
   ]
  },
  {
   "cell_type": "markdown",
   "metadata": {},
   "source": [
    "### Set number of ensemble members"
   ]
  },
  {
   "cell_type": "code",
   "execution_count": 2,
   "metadata": {},
   "outputs": [],
   "source": [
    "niter = 100"
   ]
  },
  {
   "cell_type": "markdown",
   "metadata": {},
   "source": [
    "### Set output path and ensemble name"
   ]
  },
  {
   "cell_type": "markdown",
   "metadata": {},
   "source": [
    "In this case, all my ensemble members are named \"hydro_ensemble_LHC_X\" where X is the member number"
   ]
  },
  {
   "cell_type": "code",
   "execution_count": 3,
   "metadata": {},
   "outputs": [],
   "source": [
    "path = \"/glade/scratch/kdagon/archive/\"\n",
    "PPE = \"hydro_ensemble_LHC_\""
   ]
  },
  {
   "cell_type": "markdown",
   "metadata": {},
   "source": [
    "### Set output variables of interest"
   ]
  },
  {
   "cell_type": "code",
   "execution_count": 12,
   "metadata": {},
   "outputs": [],
   "source": [
    "var = ['FPSN', 'EFLX_LH_TOT']"
   ]
  },
  {
   "cell_type": "markdown",
   "metadata": {},
   "source": [
    "### Create a list of paths to each ensemble member output directory"
   ]
  },
  {
   "cell_type": "markdown",
   "metadata": {},
   "source": [
    "Here is where we use unix wildcards (e.g., *) to get all the files in each directory\\\n",
    "Note that not all wildcard functionality works the same way as in does in the command line"
   ]
  },
  {
   "cell_type": "code",
   "execution_count": 7,
   "metadata": {},
   "outputs": [
    {
     "data": {
      "text/plain": [
       "['/glade/scratch/kdagon/archive/hydro_ensemble_LHC_1/lnd/hist/*',\n",
       " '/glade/scratch/kdagon/archive/hydro_ensemble_LHC_2/lnd/hist/*',\n",
       " '/glade/scratch/kdagon/archive/hydro_ensemble_LHC_3/lnd/hist/*',\n",
       " '/glade/scratch/kdagon/archive/hydro_ensemble_LHC_4/lnd/hist/*',\n",
       " '/glade/scratch/kdagon/archive/hydro_ensemble_LHC_5/lnd/hist/*',\n",
       " '/glade/scratch/kdagon/archive/hydro_ensemble_LHC_6/lnd/hist/*',\n",
       " '/glade/scratch/kdagon/archive/hydro_ensemble_LHC_7/lnd/hist/*',\n",
       " '/glade/scratch/kdagon/archive/hydro_ensemble_LHC_8/lnd/hist/*',\n",
       " '/glade/scratch/kdagon/archive/hydro_ensemble_LHC_9/lnd/hist/*',\n",
       " '/glade/scratch/kdagon/archive/hydro_ensemble_LHC_10/lnd/hist/*']"
      ]
     },
     "execution_count": 7,
     "metadata": {},
     "output_type": "execute_result"
    }
   ],
   "source": [
    "#full_paths = [path+PPE+str(i+1)+\"/lnd/hist/*{001[6-9],20-}*\" for i in range(niter)] # specific to years 16-20; NOTE: this wildcard doesn't work with open_mfdataset\n",
    "full_paths = [path+PPE+str(i+1)+\"/lnd/hist/*\" for i in range(niter)] # all history files in the folder\n",
    "full_paths[:10] # look at the first 10 paths"
   ]
  },
  {
   "cell_type": "markdown",
   "metadata": {},
   "source": [
    "### Create a preprocess function that returns a specific variable or variables"
   ]
  },
  {
   "cell_type": "code",
   "execution_count": 9,
   "metadata": {},
   "outputs": [],
   "source": [
    "def preprocess(ds):\n",
    "    return ds[var]"
   ]
  },
  {
   "cell_type": "markdown",
   "metadata": {},
   "source": [
    "### Test opening the first ensemble member"
   ]
  },
  {
   "cell_type": "code",
   "execution_count": 17,
   "metadata": {},
   "outputs": [
    {
     "name": "stdout",
     "output_type": "stream",
     "text": [
      "CPU times: user 9.21 s, sys: 51.6 ms, total: 9.26 s\n",
      "Wall time: 11.5 s\n"
     ]
    }
   ],
   "source": [
    "%%time\n",
    "da_model = xr.open_mfdataset(full_paths[0], combine='by_coords', preprocess=preprocess)"
   ]
  },
  {
   "cell_type": "code",
   "execution_count": 18,
   "metadata": {},
   "outputs": [
    {
     "data": {
      "text/plain": [
       "<xarray.Dataset>\n",
       "Dimensions:      (lat: 46, lon: 72, time: 60)\n",
       "Coordinates:\n",
       "  * lon          (lon) float32 0.0 5.0 10.0 15.0 ... 340.0 345.0 350.0 355.0\n",
       "  * lat          (lat) float32 -90.0 -86.0 -82.0 -78.0 ... 78.0 82.0 86.0 90.0\n",
       "  * time         (time) object 0016-02-01 00:00:00 ... 0021-01-01 00:00:00\n",
       "Data variables:\n",
       "    FPSN         (time, lat, lon) float32 dask.array<shape=(60, 46, 72), chunksize=(1, 46, 72)>\n",
       "    EFLX_LH_TOT  (time, lat, lon) float32 dask.array<shape=(60, 46, 72), chunksize=(1, 46, 72)>\n",
       "Attributes:\n",
       "    title:                                     CLM History file information\n",
       "    comment:                                   NOTE: None of the variables ar...\n",
       "    Conventions:                               CF-1.0\n",
       "    history:                                   created on 05/28/18 20:36:54\n",
       "    source:                                    Community Land Model CLM4.0\n",
       "    hostname:                                  cheyenne\n",
       "    username:                                  kdagon\n",
       "    version:                                   unknown\n",
       "    revision_id:                               $Id: histFileMod.F90 42903 201...\n",
       "    case_title:                                UNSET\n",
       "    case_id:                                   hydro_ensemble_LHC_1\n",
       "    Surface_dataset:                           surfdata_4x5_16pfts_Irrig_CMIP...\n",
       "    Initial_conditions_dataset:                finidat_interp_dest.nc\n",
       "    PFT_physiological_constants_dataset:       hydro_ensemble_LHC_1.nc\n",
       "    ltype_vegetated_or_bare_soil:              1\n",
       "    ltype_crop:                                2\n",
       "    ltype_UNUSED:                              3\n",
       "    ltype_landice_multiple_elevation_classes:  4\n",
       "    ltype_deep_lake:                           5\n",
       "    ltype_wetland:                             6\n",
       "    ltype_urban_tbd:                           7\n",
       "    ltype_urban_hd:                            8\n",
       "    ltype_urban_md:                            9\n",
       "    ctype_vegetated_or_bare_soil:              1\n",
       "    ctype_crop:                                2\n",
       "    ctype_crop_noncompete:                     2*100+m, m=cft_lb,cft_ub\n",
       "    ctype_landice:                             3\n",
       "    ctype_landice_multiple_elevation_classes:  4*100+m, m=1,glcnec\n",
       "    ctype_deep_lake:                           5\n",
       "    ctype_wetland:                             6\n",
       "    ctype_urban_roof:                          71\n",
       "    ctype_urban_sunwall:                       72\n",
       "    ctype_urban_shadewall:                     73\n",
       "    ctype_urban_impervious_road:               74\n",
       "    ctype_urban_pervious_road:                 75\n",
       "    cft_c3_crop:                               1\n",
       "    cft_c3_irrigated:                          2\n",
       "    time_period_freq:                          month_1\n",
       "    Time_constant_3Dvars_filename:             ./hydro_ensemble_LHC_1.clm2.h0...\n",
       "    Time_constant_3Dvars:                      ZSOI:DZSOI:WATSAT:SUCSAT:BSW:H..."
      ]
     },
     "execution_count": 18,
     "metadata": {},
     "output_type": "execute_result"
    }
   ],
   "source": [
    "da_model"
   ]
  },
  {
   "cell_type": "markdown",
   "metadata": {},
   "source": [
    "### Open each ensemble member as a list of datasets"
   ]
  },
  {
   "cell_type": "markdown",
   "metadata": {},
   "source": [
    "Start with the first 10 ensemble members to test functionality"
   ]
  },
  {
   "cell_type": "code",
   "execution_count": 19,
   "metadata": {},
   "outputs": [
    {
     "name": "stdout",
     "output_type": "stream",
     "text": [
      "CPU times: user 1min 33s, sys: 1.17 s, total: 1min 34s\n",
      "Wall time: 1min 55s\n"
     ]
    }
   ],
   "source": [
    "%%time\n",
    "da_model = [xr.open_mfdataset(p, combine='by_coords', preprocess=preprocess) for p in full_paths[:10]]"
   ]
  },
  {
   "cell_type": "markdown",
   "metadata": {},
   "source": [
    "Note: this takes about ~2min to read 10 ensemble members with 5 years of monthly history files for each (4x5 resolution)"
   ]
  },
  {
   "cell_type": "markdown",
   "metadata": {},
   "source": [
    "### Create an ensemble member dimension to index on"
   ]
  },
  {
   "cell_type": "markdown",
   "metadata": {},
   "source": [
    "Again, start with first 10 members"
   ]
  },
  {
   "cell_type": "code",
   "execution_count": 21,
   "metadata": {},
   "outputs": [
    {
     "data": {
      "text/plain": [
       "<xarray.DataArray 'ens' (ens: 10)>\n",
       "array([ 1,  2,  3,  4,  5,  6,  7,  8,  9, 10])\n",
       "Dimensions without coordinates: ens"
      ]
     },
     "execution_count": 21,
     "metadata": {},
     "output_type": "execute_result"
    }
   ],
   "source": [
    "ensdim = xr.DataArray(list(range(1,11)), dims='ens', name='ens') # or can use np.arange\n",
    "ensdim"
   ]
  },
  {
   "cell_type": "markdown",
   "metadata": {},
   "source": [
    "### Concatenate the ensemble members along new ensemble dimension"
   ]
  },
  {
   "cell_type": "code",
   "execution_count": 22,
   "metadata": {},
   "outputs": [],
   "source": [
    "da_model_concat = xr.concat(da_model, dim=ensdim)"
   ]
  },
  {
   "cell_type": "markdown",
   "metadata": {},
   "source": [
    "### Now you have a dataset indexed by ensemble member, with only the specify varible output you want"
   ]
  },
  {
   "cell_type": "code",
   "execution_count": 23,
   "metadata": {},
   "outputs": [
    {
     "data": {
      "text/plain": [
       "<xarray.Dataset>\n",
       "Dimensions:      (ens: 10, lat: 46, lon: 72, time: 60)\n",
       "Coordinates:\n",
       "  * lon          (lon) float32 0.0 5.0 10.0 15.0 ... 340.0 345.0 350.0 355.0\n",
       "  * lat          (lat) float32 -90.0 -86.0 -82.0 -78.0 ... 78.0 82.0 86.0 90.0\n",
       "  * time         (time) object 0016-02-01 00:00:00 ... 0021-01-01 00:00:00\n",
       "  * ens          (ens) int64 1 2 3 4 5 6 7 8 9 10\n",
       "Data variables:\n",
       "    FPSN         (ens, time, lat, lon) float32 dask.array<shape=(10, 60, 46, 72), chunksize=(1, 1, 46, 72)>\n",
       "    EFLX_LH_TOT  (ens, time, lat, lon) float32 dask.array<shape=(10, 60, 46, 72), chunksize=(1, 1, 46, 72)>\n",
       "Attributes:\n",
       "    title:                                     CLM History file information\n",
       "    comment:                                   NOTE: None of the variables ar...\n",
       "    Conventions:                               CF-1.0\n",
       "    history:                                   created on 05/28/18 20:36:54\n",
       "    source:                                    Community Land Model CLM4.0\n",
       "    hostname:                                  cheyenne\n",
       "    username:                                  kdagon\n",
       "    version:                                   unknown\n",
       "    revision_id:                               $Id: histFileMod.F90 42903 201...\n",
       "    case_title:                                UNSET\n",
       "    case_id:                                   hydro_ensemble_LHC_1\n",
       "    Surface_dataset:                           surfdata_4x5_16pfts_Irrig_CMIP...\n",
       "    Initial_conditions_dataset:                finidat_interp_dest.nc\n",
       "    PFT_physiological_constants_dataset:       hydro_ensemble_LHC_1.nc\n",
       "    ltype_vegetated_or_bare_soil:              1\n",
       "    ltype_crop:                                2\n",
       "    ltype_UNUSED:                              3\n",
       "    ltype_landice_multiple_elevation_classes:  4\n",
       "    ltype_deep_lake:                           5\n",
       "    ltype_wetland:                             6\n",
       "    ltype_urban_tbd:                           7\n",
       "    ltype_urban_hd:                            8\n",
       "    ltype_urban_md:                            9\n",
       "    ctype_vegetated_or_bare_soil:              1\n",
       "    ctype_crop:                                2\n",
       "    ctype_crop_noncompete:                     2*100+m, m=cft_lb,cft_ub\n",
       "    ctype_landice:                             3\n",
       "    ctype_landice_multiple_elevation_classes:  4*100+m, m=1,glcnec\n",
       "    ctype_deep_lake:                           5\n",
       "    ctype_wetland:                             6\n",
       "    ctype_urban_roof:                          71\n",
       "    ctype_urban_sunwall:                       72\n",
       "    ctype_urban_shadewall:                     73\n",
       "    ctype_urban_impervious_road:               74\n",
       "    ctype_urban_pervious_road:                 75\n",
       "    cft_c3_crop:                               1\n",
       "    cft_c3_irrigated:                          2\n",
       "    time_period_freq:                          month_1\n",
       "    Time_constant_3Dvars_filename:             ./hydro_ensemble_LHC_1.clm2.h0...\n",
       "    Time_constant_3Dvars:                      ZSOI:DZSOI:WATSAT:SUCSAT:BSW:H..."
      ]
     },
     "execution_count": 23,
     "metadata": {},
     "output_type": "execute_result"
    }
   ],
   "source": [
    "da_model_concat"
   ]
  },
  {
   "cell_type": "markdown",
   "metadata": {},
   "source": [
    "## Example of chunking when reading in a large file"
   ]
  },
  {
   "cell_type": "markdown",
   "metadata": {},
   "source": [
    "### Set the file path"
   ]
  },
  {
   "cell_type": "code",
   "execution_count": 34,
   "metadata": {},
   "outputs": [],
   "source": [
    "file_path = \"/glade/scratch/nanr/forKatie/daily/\""
   ]
  },
  {
   "cell_type": "markdown",
   "metadata": {},
   "source": [
    "### Specify the file name"
   ]
  },
  {
   "cell_type": "markdown",
   "metadata": {},
   "source": [
    "This is 1/4 degree atmosphere daily output, RCP8.5 from 2070-2100"
   ]
  },
  {
   "cell_type": "code",
   "execution_count": 35,
   "metadata": {},
   "outputs": [],
   "source": [
    "file = \"b.e13.BRCP85C5CN.ne120_g16.001.cam.h1.PRECT.20700101-21001231.FV.nc\""
   ]
  },
  {
   "cell_type": "markdown",
   "metadata": {},
   "source": [
    "### Open with chunking along time, lat, lon"
   ]
  },
  {
   "cell_type": "markdown",
   "metadata": {},
   "source": [
    "You kind of have to know your general dimension sizes to select chunk sizes\\\n",
    "For example here I am spliting lat and lon into 2 chunks (total lat = 786, total lon = 1152)\\\n",
    "And I am chunking time (the largest dimension) into size 100 each"
   ]
  },
  {
   "cell_type": "code",
   "execution_count": 36,
   "metadata": {},
   "outputs": [],
   "source": [
    "ds = xr.open_dataset(file_path+file, chunks={'time': 100, 'lat': 384, 'lon': 576})"
   ]
  },
  {
   "cell_type": "markdown",
   "metadata": {},
   "source": [
    "More about how to choose chunk sizes:\\\n",
    "https://docs.dask.org/en/latest/array-best-practices.html \\\n",
    "https://examples.dask.org/xarray.html"
   ]
  },
  {
   "cell_type": "markdown",
   "metadata": {},
   "source": [
    "### Read in a specific variable as a data array"
   ]
  },
  {
   "cell_type": "code",
   "execution_count": 37,
   "metadata": {},
   "outputs": [
    {
     "data": {
      "text/plain": [
       "<xarray.DataArray 'PRECT' (time: 11315, lat: 768, lon: 1152)>\n",
       "dask.array<shape=(11315, 768, 1152), dtype=float32, chunksize=(100, 384, 576)>\n",
       "Coordinates:\n",
       "  * lat      (lat) float64 -90.0 -89.77 -89.53 -89.3 ... 89.3 89.53 89.77 90.0\n",
       "  * lon      (lon) float64 0.0 0.3125 0.625 0.9375 ... 358.8 359.1 359.4 359.7\n",
       "  * time     (time) object 2070-01-02 00:00:00 ... 2101-01-01 00:00:00\n",
       "Attributes:\n",
       "    units:          m/s\n",
       "    long_name:      Total (convective and large-scale) precipitation rate (li...\n",
       "    cell_methods:   time: mean\n",
       "    cell_measures:  area: area"
      ]
     },
     "execution_count": 37,
     "metadata": {},
     "output_type": "execute_result"
    }
   ],
   "source": [
    "PRECT = ds.PRECT\n",
    "PRECT"
   ]
  },
  {
   "cell_type": "markdown",
   "metadata": {},
   "source": [
    "### Look at the total array and chunk sizes"
   ]
  },
  {
   "cell_type": "code",
   "execution_count": 38,
   "metadata": {},
   "outputs": [
    {
     "data": {
      "text/html": [
       "<table>\n",
       "<tr>\n",
       "<td>\n",
       "<table>\n",
       "  <thead>\n",
       "    <tr><td> </td><th> Array </th><th> Chunk </th></tr>\n",
       "  </thead>\n",
       "  <tbody>\n",
       "    <tr><th> Bytes </th><td> 40.04 GB </td> <td> 88.47 MB </td></tr>\n",
       "    <tr><th> Shape </th><td> (11315, 768, 1152) </td> <td> (100, 384, 576) </td></tr>\n",
       "    <tr><th> Count </th><td> 457 Tasks </td><td> 456 Chunks </td></tr>\n",
       "    <tr><th> Type </th><td> float32 </td><td> numpy.ndarray </td></tr>\n",
       "  </tbody>\n",
       "</table>\n",
       "</td>\n",
       "<td>\n",
       "<svg width=\"169\" height=\"156\" style=\"stroke:rgb(0,0,0);stroke-width:1\" >\n",
       "\n",
       "  <!-- Horizontal lines -->\n",
       "  <line x1=\"10\" y1=\"0\" x2=\"80\" y2=\"70\" style=\"stroke-width:2\" />\n",
       "  <line x1=\"10\" y1=\"18\" x2=\"80\" y2=\"88\" />\n",
       "  <line x1=\"10\" y1=\"36\" x2=\"80\" y2=\"106\" style=\"stroke-width:2\" />\n",
       "\n",
       "  <!-- Vertical lines -->\n",
       "  <line x1=\"10\" y1=\"0\" x2=\"10\" y2=\"36\" style=\"stroke-width:2\" />\n",
       "  <line x1=\"10\" y1=\"0\" x2=\"10\" y2=\"36\" />\n",
       "  <line x1=\"11\" y1=\"1\" x2=\"11\" y2=\"37\" />\n",
       "  <line x1=\"11\" y1=\"1\" x2=\"11\" y2=\"38\" />\n",
       "  <line x1=\"12\" y1=\"2\" x2=\"12\" y2=\"38\" />\n",
       "  <line x1=\"13\" y1=\"3\" x2=\"13\" y2=\"39\" />\n",
       "  <line x1=\"13\" y1=\"3\" x2=\"13\" y2=\"40\" />\n",
       "  <line x1=\"14\" y1=\"4\" x2=\"14\" y2=\"40\" />\n",
       "  <line x1=\"14\" y1=\"4\" x2=\"14\" y2=\"41\" />\n",
       "  <line x1=\"15\" y1=\"5\" x2=\"15\" y2=\"41\" />\n",
       "  <line x1=\"16\" y1=\"6\" x2=\"16\" y2=\"42\" />\n",
       "  <line x1=\"16\" y1=\"6\" x2=\"16\" y2=\"43\" />\n",
       "  <line x1=\"17\" y1=\"7\" x2=\"17\" y2=\"43\" />\n",
       "  <line x1=\"18\" y1=\"8\" x2=\"18\" y2=\"44\" />\n",
       "  <line x1=\"18\" y1=\"8\" x2=\"18\" y2=\"45\" />\n",
       "  <line x1=\"19\" y1=\"9\" x2=\"19\" y2=\"45\" />\n",
       "  <line x1=\"19\" y1=\"9\" x2=\"19\" y2=\"46\" />\n",
       "  <line x1=\"20\" y1=\"10\" x2=\"20\" y2=\"46\" />\n",
       "  <line x1=\"21\" y1=\"11\" x2=\"21\" y2=\"47\" />\n",
       "  <line x1=\"21\" y1=\"11\" x2=\"21\" y2=\"48\" />\n",
       "  <line x1=\"22\" y1=\"12\" x2=\"22\" y2=\"48\" />\n",
       "  <line x1=\"23\" y1=\"13\" x2=\"23\" y2=\"49\" />\n",
       "  <line x1=\"23\" y1=\"13\" x2=\"23\" y2=\"50\" />\n",
       "  <line x1=\"24\" y1=\"14\" x2=\"24\" y2=\"50\" />\n",
       "  <line x1=\"24\" y1=\"14\" x2=\"24\" y2=\"51\" />\n",
       "  <line x1=\"25\" y1=\"15\" x2=\"25\" y2=\"51\" />\n",
       "  <line x1=\"26\" y1=\"16\" x2=\"26\" y2=\"52\" />\n",
       "  <line x1=\"26\" y1=\"16\" x2=\"26\" y2=\"53\" />\n",
       "  <line x1=\"27\" y1=\"17\" x2=\"27\" y2=\"53\" />\n",
       "  <line x1=\"28\" y1=\"18\" x2=\"28\" y2=\"54\" />\n",
       "  <line x1=\"28\" y1=\"18\" x2=\"28\" y2=\"55\" />\n",
       "  <line x1=\"29\" y1=\"19\" x2=\"29\" y2=\"55\" />\n",
       "  <line x1=\"29\" y1=\"19\" x2=\"29\" y2=\"56\" />\n",
       "  <line x1=\"30\" y1=\"20\" x2=\"30\" y2=\"56\" />\n",
       "  <line x1=\"31\" y1=\"21\" x2=\"31\" y2=\"57\" />\n",
       "  <line x1=\"31\" y1=\"21\" x2=\"31\" y2=\"58\" />\n",
       "  <line x1=\"32\" y1=\"22\" x2=\"32\" y2=\"58\" />\n",
       "  <line x1=\"33\" y1=\"23\" x2=\"33\" y2=\"59\" />\n",
       "  <line x1=\"33\" y1=\"23\" x2=\"33\" y2=\"60\" />\n",
       "  <line x1=\"34\" y1=\"24\" x2=\"34\" y2=\"60\" />\n",
       "  <line x1=\"34\" y1=\"24\" x2=\"34\" y2=\"61\" />\n",
       "  <line x1=\"35\" y1=\"25\" x2=\"35\" y2=\"61\" />\n",
       "  <line x1=\"36\" y1=\"26\" x2=\"36\" y2=\"62\" />\n",
       "  <line x1=\"36\" y1=\"26\" x2=\"36\" y2=\"63\" />\n",
       "  <line x1=\"37\" y1=\"27\" x2=\"37\" y2=\"63\" />\n",
       "  <line x1=\"38\" y1=\"28\" x2=\"38\" y2=\"64\" />\n",
       "  <line x1=\"38\" y1=\"28\" x2=\"38\" y2=\"65\" />\n",
       "  <line x1=\"39\" y1=\"29\" x2=\"39\" y2=\"65\" />\n",
       "  <line x1=\"39\" y1=\"29\" x2=\"39\" y2=\"66\" />\n",
       "  <line x1=\"40\" y1=\"30\" x2=\"40\" y2=\"66\" />\n",
       "  <line x1=\"41\" y1=\"31\" x2=\"41\" y2=\"67\" />\n",
       "  <line x1=\"41\" y1=\"31\" x2=\"41\" y2=\"68\" />\n",
       "  <line x1=\"42\" y1=\"32\" x2=\"42\" y2=\"68\" />\n",
       "  <line x1=\"43\" y1=\"33\" x2=\"43\" y2=\"69\" />\n",
       "  <line x1=\"43\" y1=\"33\" x2=\"43\" y2=\"70\" />\n",
       "  <line x1=\"44\" y1=\"34\" x2=\"44\" y2=\"70\" />\n",
       "  <line x1=\"44\" y1=\"34\" x2=\"44\" y2=\"71\" />\n",
       "  <line x1=\"45\" y1=\"35\" x2=\"45\" y2=\"71\" />\n",
       "  <line x1=\"46\" y1=\"36\" x2=\"46\" y2=\"72\" />\n",
       "  <line x1=\"46\" y1=\"36\" x2=\"46\" y2=\"73\" />\n",
       "  <line x1=\"47\" y1=\"37\" x2=\"47\" y2=\"73\" />\n",
       "  <line x1=\"48\" y1=\"38\" x2=\"48\" y2=\"74\" />\n",
       "  <line x1=\"48\" y1=\"38\" x2=\"48\" y2=\"75\" />\n",
       "  <line x1=\"49\" y1=\"39\" x2=\"49\" y2=\"75\" />\n",
       "  <line x1=\"49\" y1=\"39\" x2=\"49\" y2=\"76\" />\n",
       "  <line x1=\"50\" y1=\"40\" x2=\"50\" y2=\"76\" />\n",
       "  <line x1=\"51\" y1=\"41\" x2=\"51\" y2=\"77\" />\n",
       "  <line x1=\"51\" y1=\"41\" x2=\"51\" y2=\"78\" />\n",
       "  <line x1=\"52\" y1=\"42\" x2=\"52\" y2=\"78\" />\n",
       "  <line x1=\"53\" y1=\"43\" x2=\"53\" y2=\"79\" />\n",
       "  <line x1=\"53\" y1=\"43\" x2=\"53\" y2=\"80\" />\n",
       "  <line x1=\"54\" y1=\"44\" x2=\"54\" y2=\"80\" />\n",
       "  <line x1=\"54\" y1=\"44\" x2=\"54\" y2=\"81\" />\n",
       "  <line x1=\"55\" y1=\"45\" x2=\"55\" y2=\"81\" />\n",
       "  <line x1=\"56\" y1=\"46\" x2=\"56\" y2=\"82\" />\n",
       "  <line x1=\"56\" y1=\"46\" x2=\"56\" y2=\"83\" />\n",
       "  <line x1=\"57\" y1=\"47\" x2=\"57\" y2=\"83\" />\n",
       "  <line x1=\"58\" y1=\"48\" x2=\"58\" y2=\"84\" />\n",
       "  <line x1=\"58\" y1=\"48\" x2=\"58\" y2=\"85\" />\n",
       "  <line x1=\"59\" y1=\"49\" x2=\"59\" y2=\"85\" />\n",
       "  <line x1=\"59\" y1=\"49\" x2=\"59\" y2=\"86\" />\n",
       "  <line x1=\"60\" y1=\"50\" x2=\"60\" y2=\"86\" />\n",
       "  <line x1=\"61\" y1=\"51\" x2=\"61\" y2=\"87\" />\n",
       "  <line x1=\"61\" y1=\"51\" x2=\"61\" y2=\"88\" />\n",
       "  <line x1=\"62\" y1=\"52\" x2=\"62\" y2=\"88\" />\n",
       "  <line x1=\"63\" y1=\"53\" x2=\"63\" y2=\"89\" />\n",
       "  <line x1=\"63\" y1=\"53\" x2=\"63\" y2=\"90\" />\n",
       "  <line x1=\"64\" y1=\"54\" x2=\"64\" y2=\"90\" />\n",
       "  <line x1=\"64\" y1=\"54\" x2=\"64\" y2=\"91\" />\n",
       "  <line x1=\"65\" y1=\"55\" x2=\"65\" y2=\"91\" />\n",
       "  <line x1=\"66\" y1=\"56\" x2=\"66\" y2=\"92\" />\n",
       "  <line x1=\"66\" y1=\"56\" x2=\"66\" y2=\"93\" />\n",
       "  <line x1=\"67\" y1=\"57\" x2=\"67\" y2=\"93\" />\n",
       "  <line x1=\"68\" y1=\"58\" x2=\"68\" y2=\"94\" />\n",
       "  <line x1=\"68\" y1=\"58\" x2=\"68\" y2=\"94\" />\n",
       "  <line x1=\"69\" y1=\"59\" x2=\"69\" y2=\"95\" />\n",
       "  <line x1=\"69\" y1=\"59\" x2=\"69\" y2=\"96\" />\n",
       "  <line x1=\"70\" y1=\"60\" x2=\"70\" y2=\"96\" />\n",
       "  <line x1=\"71\" y1=\"61\" x2=\"71\" y2=\"97\" />\n",
       "  <line x1=\"71\" y1=\"61\" x2=\"71\" y2=\"98\" />\n",
       "  <line x1=\"72\" y1=\"62\" x2=\"72\" y2=\"98\" />\n",
       "  <line x1=\"73\" y1=\"63\" x2=\"73\" y2=\"99\" />\n",
       "  <line x1=\"73\" y1=\"63\" x2=\"73\" y2=\"99\" />\n",
       "  <line x1=\"74\" y1=\"64\" x2=\"74\" y2=\"100\" />\n",
       "  <line x1=\"74\" y1=\"64\" x2=\"74\" y2=\"101\" />\n",
       "  <line x1=\"75\" y1=\"65\" x2=\"75\" y2=\"101\" />\n",
       "  <line x1=\"76\" y1=\"66\" x2=\"76\" y2=\"102\" />\n",
       "  <line x1=\"76\" y1=\"66\" x2=\"76\" y2=\"103\" />\n",
       "  <line x1=\"77\" y1=\"67\" x2=\"77\" y2=\"103\" />\n",
       "  <line x1=\"77\" y1=\"67\" x2=\"77\" y2=\"104\" />\n",
       "  <line x1=\"78\" y1=\"68\" x2=\"78\" y2=\"104\" />\n",
       "  <line x1=\"79\" y1=\"69\" x2=\"79\" y2=\"105\" />\n",
       "  <line x1=\"79\" y1=\"69\" x2=\"79\" y2=\"106\" />\n",
       "  <line x1=\"80\" y1=\"70\" x2=\"80\" y2=\"106\" />\n",
       "  <line x1=\"80\" y1=\"70\" x2=\"80\" y2=\"106\" style=\"stroke-width:2\" />\n",
       "\n",
       "  <!-- Colored Rectangle -->\n",
       "  <polygon points=\"10.000000,0.000000 80.588235,70.588235 80.588235,106.943572 10.000000,36.355336\" style=\"fill:#ECB172A0;stroke-width:0\"/>\n",
       "\n",
       "  <!-- Horizontal lines -->\n",
       "  <line x1=\"10\" y1=\"0\" x2=\"48\" y2=\"0\" style=\"stroke-width:2\" />\n",
       "  <line x1=\"10\" y1=\"0\" x2=\"49\" y2=\"0\" />\n",
       "  <line x1=\"11\" y1=\"1\" x2=\"49\" y2=\"1\" />\n",
       "  <line x1=\"11\" y1=\"1\" x2=\"50\" y2=\"1\" />\n",
       "  <line x1=\"12\" y1=\"2\" x2=\"51\" y2=\"2\" />\n",
       "  <line x1=\"13\" y1=\"3\" x2=\"51\" y2=\"3\" />\n",
       "  <line x1=\"13\" y1=\"3\" x2=\"52\" y2=\"3\" />\n",
       "  <line x1=\"14\" y1=\"4\" x2=\"53\" y2=\"4\" />\n",
       "  <line x1=\"14\" y1=\"4\" x2=\"53\" y2=\"4\" />\n",
       "  <line x1=\"15\" y1=\"5\" x2=\"54\" y2=\"5\" />\n",
       "  <line x1=\"16\" y1=\"6\" x2=\"54\" y2=\"6\" />\n",
       "  <line x1=\"16\" y1=\"6\" x2=\"55\" y2=\"6\" />\n",
       "  <line x1=\"17\" y1=\"7\" x2=\"56\" y2=\"7\" />\n",
       "  <line x1=\"18\" y1=\"8\" x2=\"56\" y2=\"8\" />\n",
       "  <line x1=\"18\" y1=\"8\" x2=\"57\" y2=\"8\" />\n",
       "  <line x1=\"19\" y1=\"9\" x2=\"58\" y2=\"9\" />\n",
       "  <line x1=\"19\" y1=\"9\" x2=\"58\" y2=\"9\" />\n",
       "  <line x1=\"20\" y1=\"10\" x2=\"59\" y2=\"10\" />\n",
       "  <line x1=\"21\" y1=\"11\" x2=\"59\" y2=\"11\" />\n",
       "  <line x1=\"21\" y1=\"11\" x2=\"60\" y2=\"11\" />\n",
       "  <line x1=\"22\" y1=\"12\" x2=\"61\" y2=\"12\" />\n",
       "  <line x1=\"23\" y1=\"13\" x2=\"61\" y2=\"13\" />\n",
       "  <line x1=\"23\" y1=\"13\" x2=\"62\" y2=\"13\" />\n",
       "  <line x1=\"24\" y1=\"14\" x2=\"63\" y2=\"14\" />\n",
       "  <line x1=\"24\" y1=\"14\" x2=\"63\" y2=\"14\" />\n",
       "  <line x1=\"25\" y1=\"15\" x2=\"64\" y2=\"15\" />\n",
       "  <line x1=\"26\" y1=\"16\" x2=\"64\" y2=\"16\" />\n",
       "  <line x1=\"26\" y1=\"16\" x2=\"65\" y2=\"16\" />\n",
       "  <line x1=\"27\" y1=\"17\" x2=\"66\" y2=\"17\" />\n",
       "  <line x1=\"28\" y1=\"18\" x2=\"66\" y2=\"18\" />\n",
       "  <line x1=\"28\" y1=\"18\" x2=\"67\" y2=\"18\" />\n",
       "  <line x1=\"29\" y1=\"19\" x2=\"68\" y2=\"19\" />\n",
       "  <line x1=\"29\" y1=\"19\" x2=\"68\" y2=\"19\" />\n",
       "  <line x1=\"30\" y1=\"20\" x2=\"69\" y2=\"20\" />\n",
       "  <line x1=\"31\" y1=\"21\" x2=\"69\" y2=\"21\" />\n",
       "  <line x1=\"31\" y1=\"21\" x2=\"70\" y2=\"21\" />\n",
       "  <line x1=\"32\" y1=\"22\" x2=\"71\" y2=\"22\" />\n",
       "  <line x1=\"33\" y1=\"23\" x2=\"71\" y2=\"23\" />\n",
       "  <line x1=\"33\" y1=\"23\" x2=\"72\" y2=\"23\" />\n",
       "  <line x1=\"34\" y1=\"24\" x2=\"73\" y2=\"24\" />\n",
       "  <line x1=\"34\" y1=\"24\" x2=\"73\" y2=\"24\" />\n",
       "  <line x1=\"35\" y1=\"25\" x2=\"74\" y2=\"25\" />\n",
       "  <line x1=\"36\" y1=\"26\" x2=\"74\" y2=\"26\" />\n",
       "  <line x1=\"36\" y1=\"26\" x2=\"75\" y2=\"26\" />\n",
       "  <line x1=\"37\" y1=\"27\" x2=\"76\" y2=\"27\" />\n",
       "  <line x1=\"38\" y1=\"28\" x2=\"76\" y2=\"28\" />\n",
       "  <line x1=\"38\" y1=\"28\" x2=\"77\" y2=\"28\" />\n",
       "  <line x1=\"39\" y1=\"29\" x2=\"78\" y2=\"29\" />\n",
       "  <line x1=\"39\" y1=\"29\" x2=\"78\" y2=\"29\" />\n",
       "  <line x1=\"40\" y1=\"30\" x2=\"79\" y2=\"30\" />\n",
       "  <line x1=\"41\" y1=\"31\" x2=\"79\" y2=\"31\" />\n",
       "  <line x1=\"41\" y1=\"31\" x2=\"80\" y2=\"31\" />\n",
       "  <line x1=\"42\" y1=\"32\" x2=\"81\" y2=\"32\" />\n",
       "  <line x1=\"43\" y1=\"33\" x2=\"81\" y2=\"33\" />\n",
       "  <line x1=\"43\" y1=\"33\" x2=\"82\" y2=\"33\" />\n",
       "  <line x1=\"44\" y1=\"34\" x2=\"83\" y2=\"34\" />\n",
       "  <line x1=\"44\" y1=\"34\" x2=\"83\" y2=\"34\" />\n",
       "  <line x1=\"45\" y1=\"35\" x2=\"84\" y2=\"35\" />\n",
       "  <line x1=\"46\" y1=\"36\" x2=\"84\" y2=\"36\" />\n",
       "  <line x1=\"46\" y1=\"36\" x2=\"85\" y2=\"36\" />\n",
       "  <line x1=\"47\" y1=\"37\" x2=\"86\" y2=\"37\" />\n",
       "  <line x1=\"48\" y1=\"38\" x2=\"86\" y2=\"38\" />\n",
       "  <line x1=\"48\" y1=\"38\" x2=\"87\" y2=\"38\" />\n",
       "  <line x1=\"49\" y1=\"39\" x2=\"87\" y2=\"39\" />\n",
       "  <line x1=\"49\" y1=\"39\" x2=\"88\" y2=\"39\" />\n",
       "  <line x1=\"50\" y1=\"40\" x2=\"89\" y2=\"40\" />\n",
       "  <line x1=\"51\" y1=\"41\" x2=\"89\" y2=\"41\" />\n",
       "  <line x1=\"51\" y1=\"41\" x2=\"90\" y2=\"41\" />\n",
       "  <line x1=\"52\" y1=\"42\" x2=\"91\" y2=\"42\" />\n",
       "  <line x1=\"53\" y1=\"43\" x2=\"91\" y2=\"43\" />\n",
       "  <line x1=\"53\" y1=\"43\" x2=\"92\" y2=\"43\" />\n",
       "  <line x1=\"54\" y1=\"44\" x2=\"92\" y2=\"44\" />\n",
       "  <line x1=\"54\" y1=\"44\" x2=\"93\" y2=\"44\" />\n",
       "  <line x1=\"55\" y1=\"45\" x2=\"94\" y2=\"45\" />\n",
       "  <line x1=\"56\" y1=\"46\" x2=\"94\" y2=\"46\" />\n",
       "  <line x1=\"56\" y1=\"46\" x2=\"95\" y2=\"46\" />\n",
       "  <line x1=\"57\" y1=\"47\" x2=\"96\" y2=\"47\" />\n",
       "  <line x1=\"58\" y1=\"48\" x2=\"96\" y2=\"48\" />\n",
       "  <line x1=\"58\" y1=\"48\" x2=\"97\" y2=\"48\" />\n",
       "  <line x1=\"59\" y1=\"49\" x2=\"97\" y2=\"49\" />\n",
       "  <line x1=\"59\" y1=\"49\" x2=\"98\" y2=\"49\" />\n",
       "  <line x1=\"60\" y1=\"50\" x2=\"99\" y2=\"50\" />\n",
       "  <line x1=\"61\" y1=\"51\" x2=\"99\" y2=\"51\" />\n",
       "  <line x1=\"61\" y1=\"51\" x2=\"100\" y2=\"51\" />\n",
       "  <line x1=\"62\" y1=\"52\" x2=\"101\" y2=\"52\" />\n",
       "  <line x1=\"63\" y1=\"53\" x2=\"101\" y2=\"53\" />\n",
       "  <line x1=\"63\" y1=\"53\" x2=\"102\" y2=\"53\" />\n",
       "  <line x1=\"64\" y1=\"54\" x2=\"102\" y2=\"54\" />\n",
       "  <line x1=\"64\" y1=\"54\" x2=\"103\" y2=\"54\" />\n",
       "  <line x1=\"65\" y1=\"55\" x2=\"104\" y2=\"55\" />\n",
       "  <line x1=\"66\" y1=\"56\" x2=\"104\" y2=\"56\" />\n",
       "  <line x1=\"66\" y1=\"56\" x2=\"105\" y2=\"56\" />\n",
       "  <line x1=\"67\" y1=\"57\" x2=\"106\" y2=\"57\" />\n",
       "  <line x1=\"68\" y1=\"58\" x2=\"106\" y2=\"58\" />\n",
       "  <line x1=\"68\" y1=\"58\" x2=\"107\" y2=\"58\" />\n",
       "  <line x1=\"69\" y1=\"59\" x2=\"107\" y2=\"59\" />\n",
       "  <line x1=\"69\" y1=\"59\" x2=\"108\" y2=\"59\" />\n",
       "  <line x1=\"70\" y1=\"60\" x2=\"109\" y2=\"60\" />\n",
       "  <line x1=\"71\" y1=\"61\" x2=\"109\" y2=\"61\" />\n",
       "  <line x1=\"71\" y1=\"61\" x2=\"110\" y2=\"61\" />\n",
       "  <line x1=\"72\" y1=\"62\" x2=\"111\" y2=\"62\" />\n",
       "  <line x1=\"73\" y1=\"63\" x2=\"111\" y2=\"63\" />\n",
       "  <line x1=\"73\" y1=\"63\" x2=\"112\" y2=\"63\" />\n",
       "  <line x1=\"74\" y1=\"64\" x2=\"112\" y2=\"64\" />\n",
       "  <line x1=\"74\" y1=\"64\" x2=\"113\" y2=\"64\" />\n",
       "  <line x1=\"75\" y1=\"65\" x2=\"114\" y2=\"65\" />\n",
       "  <line x1=\"76\" y1=\"66\" x2=\"114\" y2=\"66\" />\n",
       "  <line x1=\"76\" y1=\"66\" x2=\"115\" y2=\"66\" />\n",
       "  <line x1=\"77\" y1=\"67\" x2=\"116\" y2=\"67\" />\n",
       "  <line x1=\"77\" y1=\"67\" x2=\"116\" y2=\"67\" />\n",
       "  <line x1=\"78\" y1=\"68\" x2=\"117\" y2=\"68\" />\n",
       "  <line x1=\"79\" y1=\"69\" x2=\"117\" y2=\"69\" />\n",
       "  <line x1=\"79\" y1=\"69\" x2=\"118\" y2=\"69\" />\n",
       "  <line x1=\"80\" y1=\"70\" x2=\"119\" y2=\"70\" />\n",
       "  <line x1=\"80\" y1=\"70\" x2=\"119\" y2=\"70\" style=\"stroke-width:2\" />\n",
       "\n",
       "  <!-- Vertical lines -->\n",
       "  <line x1=\"10\" y1=\"0\" x2=\"80\" y2=\"70\" style=\"stroke-width:2\" />\n",
       "  <line x1=\"29\" y1=\"0\" x2=\"99\" y2=\"70\" />\n",
       "  <line x1=\"48\" y1=\"0\" x2=\"119\" y2=\"70\" style=\"stroke-width:2\" />\n",
       "\n",
       "  <!-- Colored Rectangle -->\n",
       "  <polygon points=\"10.000000,0.000000 48.696134,0.000000 119.284369,70.588235 80.588235,70.588235\" style=\"fill:#ECB172A0;stroke-width:0\"/>\n",
       "\n",
       "  <!-- Horizontal lines -->\n",
       "  <line x1=\"80\" y1=\"70\" x2=\"119\" y2=\"70\" style=\"stroke-width:2\" />\n",
       "  <line x1=\"80\" y1=\"88\" x2=\"119\" y2=\"88\" />\n",
       "  <line x1=\"80\" y1=\"106\" x2=\"119\" y2=\"106\" style=\"stroke-width:2\" />\n",
       "\n",
       "  <!-- Vertical lines -->\n",
       "  <line x1=\"80\" y1=\"70\" x2=\"80\" y2=\"106\" style=\"stroke-width:2\" />\n",
       "  <line x1=\"99\" y1=\"70\" x2=\"99\" y2=\"106\" />\n",
       "  <line x1=\"119\" y1=\"70\" x2=\"119\" y2=\"106\" style=\"stroke-width:2\" />\n",
       "\n",
       "  <!-- Colored Rectangle -->\n",
       "  <polygon points=\"80.588235,70.588235 119.284369,70.588235 119.284369,106.943572 80.588235,106.943572\" style=\"fill:#ECB172A0;stroke-width:0\"/>\n",
       "\n",
       "  <!-- Text -->\n",
       "  <text x=\"99.936302\" y=\"126.943572\" font-size=\"1.0rem\" font-weight=\"100\" text-anchor=\"middle\" >1152</text>\n",
       "  <text x=\"139.284369\" y=\"88.765904\" font-size=\"1.0rem\" font-weight=\"100\" text-anchor=\"middle\" transform=\"rotate(-90,139.284369,88.765904)\">768</text>\n",
       "  <text x=\"35.294118\" y=\"91.649454\" font-size=\"1.0rem\" font-weight=\"100\" text-anchor=\"middle\" transform=\"rotate(45,35.294118,91.649454)\">11315</text>\n",
       "</svg>\n",
       "</td>\n",
       "</tr>\n",
       "</table>"
      ],
      "text/plain": [
       "dask.array<open_dataset-a61c0b177d98114397f9c4755db46ccePRECT, shape=(11315, 768, 1152), dtype=float32, chunksize=(100, 384, 576)>"
      ]
     },
     "execution_count": 38,
     "metadata": {},
     "output_type": "execute_result"
    }
   ],
   "source": [
    "PRECT.data"
   ]
  },
  {
   "cell_type": "code",
   "execution_count": null,
   "metadata": {},
   "outputs": [],
   "source": []
  }
 ],
 "metadata": {
  "kernelspec": {
   "display_name": "Python (conda-analysis)",
   "language": "python",
   "name": "analysis"
  },
  "language_info": {
   "codemirror_mode": {
    "name": "ipython",
    "version": 3
   },
   "file_extension": ".py",
   "mimetype": "text/x-python",
   "name": "python",
   "nbconvert_exporter": "python",
   "pygments_lexer": "ipython3",
   "version": "3.7.3"
  }
 },
 "nbformat": 4,
 "nbformat_minor": 4
}
