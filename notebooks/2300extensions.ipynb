{
 "cells": [
  {
   "cell_type": "markdown",
   "metadata": {},
   "source": [
    "## 2300 extensions\n",
    "Reads in data from historical, SSP 5-8.5 + SSP5-3.4OS & SSP extensions\n",
    "\n",
    "b.e21.BWSSP585extcmip6.f09_g17.CMIP6-SSP5-8.5ext-WACCM.001\n",
    "\n",
    "b.e21.BWSSP534osextcmip6.f09_g17.CMIP6-SSP5-3.4OSext-WACCM.001\n",
    "\n",
    "plots change in global TOTECOSYSC"
   ]
  },
  {
   "cell_type": "code",
   "execution_count": 1,
   "metadata": {},
   "outputs": [],
   "source": [
    "import xarray as xr\n",
    "import cf_units as cf\n",
    "import numpy as np\n",
    "import pandas as pd\n",
    "import esmlab\n",
    "from ctsm_py import utils\n",
    "import warnings\n",
    "warnings.simplefilter(\"ignore\", category=RuntimeWarning)\n",
    "\n",
    "# some resources for plotting\n",
    "import matplotlib.pyplot as plt\n",
    "import matplotlib.colors as colors\n",
    "import matplotlib.lines as mlines\n",
    "import cartopy\n",
    "import cartopy.crs as ccrs\n",
    "import cartopy.feature as cfeature\n",
    "%matplotlib inline"
   ]
  },
  {
   "cell_type": "code",
   "execution_count": 2,
   "metadata": {},
   "outputs": [
    {
     "name": "stdout",
     "output_type": "stream",
     "text": [
      "['/glade/scratch/wwieder/b.e21.BWHIST.f09_g17.CMIP6-historical-WACCM.001.clm2.h0.TOTECOSYSC.185001-201412.nc']\n",
      "['/glade/scratch/wwieder/b.e21.BWSSP534oscmip6.f09_g17.CMIP6-SSP5-3.4OS-WACCM.001.clm2.h0.TOTECOSYSC.*', '/glade/scratch/wwieder/b.e21.BWSSP585cmip6.f09_g17.CMIP6-SSP5-8.5-WACCM.001.clm2.h0.TOTECOSYSC.*']\n"
     ]
    }
   ],
   "source": [
    "# Point to data\n",
    "varLND = ['TOTECOSYSC','TBOT']  #TWS not available for CESM1 / CLM4\n",
    "var = varLND #+ varATM\n",
    "ens = ['101','102','103']\n",
    "ssp = ['5-8.5','5-3.4OS']\n",
    "times = ['195001-199912','200001-201412']\n",
    "\n",
    "# --- CESM2_ssp cases  (5 ensemble member) ---\n",
    "histCase = ['b.e21.BWHIST.f09_g17.CMIP6-historical-WACCM']\n",
    "sspCase = ['b.e21.BWSSP534oscmip6.f09_g17.CMIP6-SSP5-3.4OS-WACCM',\n",
    "           'b.e21.BWSSP585cmip6.f09_g17.CMIP6-SSP5-8.5-WACCM']\n",
    "extCase = ['b.e21.BWSSP534osextcmip6.f09_g17.CMIP6-SSP5-3.4OSext-WACCM',\n",
    "           'b.e21.BWSSP585extcmip6.f09_g17.CMIP6-SSP5-8.5ext-WACCM']\n",
    "# SSP EXTENSION\n",
    "ssp   =  ['SSP5-3.4OS','SSP5-8.5']\n",
    "fileIn = '/glade/scratch/wwieder/'\n",
    "pattern0 = '/glade/scratch/wwieder/{Case}.001.clm2.h0.TOTECOSYSC.185001-201412.nc'\n",
    "pattern1 = '/glade/scratch/wwieder/{Case}.001.clm2.h0.TOTECOSYSC.*'#204001-210012.nc'\n",
    "pattern2 = '/glade/scratch/wwieder/{Case}.001.TOTECOSYSC.nc'\n",
    "patternHIST = [pattern0.format(Case = histCase) for histCase in histCase]\n",
    "patternSSP  = [pattern1.format(Case = sspCase ) for sspCase in sspCase]\n",
    "patternEXT  = [pattern2.format(Case = extCase ) for extCase in extCase]\n",
    "print(patternHIST)\n",
    "print(patternSSP)\n",
    "#ssp5-34os.001  only has 2040-2100 data "
   ]
  },
  {
   "cell_type": "code",
   "execution_count": 3,
   "metadata": {},
   "outputs": [
    {
     "name": "stdout",
     "output_type": "stream",
     "text": [
      "<xarray.DataArray 'TOTECOSYSC' (time: 732, lat: 192, lon: 288)>\n",
      "dask.array<open_dataset-d56d107e6cba8d89eea04b933183de38TOTECOSYSC, shape=(732, 192, 288), dtype=float32, chunksize=(732, 192, 288)>\n",
      "Coordinates:\n",
      "  * lon      (lon) float32 0.0 1.25 2.5 3.75 5.0 ... 355.0 356.25 357.5 358.75\n",
      "  * lat      (lat) float32 -90.0 -89.057594 -88.11518 ... 89.057594 90.0\n",
      "  * time     (time) object 2040-01-16 12:00:00 ... 2100-12-16 12:00:00\n",
      "Attributes:\n",
      "    long_name:     total ecosystem carbon, incl veg but excl cpool and produc...\n",
      "    units:         gC/m^2\n",
      "    cell_methods:  time: mean\n"
     ]
    }
   ],
   "source": [
    "ds_0  = utils.time_set_mid(xr.open_mfdataset(patternHIST, decode_times=True, \n",
    "                                             combine='by_coords'), 'time')\n",
    "ds_1a = utils.time_set_mid(xr.open_mfdataset(patternSSP[0], decode_times=True, \n",
    "                                             combine='by_coords'), 'time')\n",
    "ds_1b = utils.time_set_mid(xr.open_mfdataset(patternSSP[1], decode_times=True, \n",
    "                                             combine='by_coords'), 'time')\n",
    "ds_2a = utils.time_set_mid(xr.open_mfdataset(patternEXT[0], decode_times=True, \n",
    "                                             combine='by_coords'), 'time')\n",
    "ds_2b = utils.time_set_mid(xr.open_mfdataset(patternEXT[1], decode_times=True, \n",
    "                                             combine='by_coords'), 'time')\n",
    "print(ds_1a.TOTECOSYSC)"
   ]
  },
  {
   "cell_type": "code",
   "execution_count": 4,
   "metadata": {},
   "outputs": [
    {
     "name": "stdout",
     "output_type": "stream",
     "text": [
      "<xarray.DataArray 'TOTECOSYSC' (time: 5088, lat: 192, lon: 288)>\n",
      "dask.array<concatenate, shape=(5088, 192, 288), dtype=float32, chunksize=(2376, 192, 288)>\n",
      "Coordinates:\n",
      "  * lat      (lat) float32 -90.0 -89.057594 -88.11518 ... 89.057594 90.0\n",
      "  * lon      (lon) float32 0.0 1.25 2.5 3.75 5.0 ... 355.0 356.25 357.5 358.75\n",
      "  * time     (time) object 1850-01-16 11:45:00 ... 2298-12-16 12:00:00\n",
      "Attributes:\n",
      "    long_name:     total ecosystem carbon, incl veg but excl cpool and produc...\n",
      "    units:         gC/m^2\n",
      "    cell_methods:  time: mean\n",
      "<xarray.DataArray 'TOTECOSYSC' (time: 5172, lat: 192, lon: 288)>\n",
      "dask.array<concatenate, shape=(5172, 192, 288), dtype=float32, chunksize=(2160, 192, 288)>\n",
      "Coordinates:\n",
      "  * lat      (lat) float32 -90.0 -89.057594 -88.11518 ... 89.057594 90.0\n",
      "  * lon      (lon) float32 0.0 1.25 2.5 3.75 5.0 ... 355.0 356.25 357.5 358.75\n",
      "  * time     (time) object 1850-01-16 11:45:00 ... 2280-12-16 12:00:00\n",
      "Attributes:\n",
      "    long_name:     total ecosystem carbon, incl veg but excl cpool and produc...\n",
      "    units:         gC/m^2\n",
      "    cell_methods:  time: mean\n"
     ]
    }
   ],
   "source": [
    "land_up = ds_0.area * ds_0.landfrac #km^2\n",
    "land_wgt = land_up / land_up.sum(dim=('lat','lon'))\n",
    "land_area = land_up.values * 1e6  # convert km2 to m2\n",
    "\n",
    "da_534 = xr.concat([ds_0.TOTECOSYSC,  ds_1a.TOTECOSYSC, ds_2a.TOTECOSYSC],dim='time')\n",
    "da_585 = xr.concat([ds_0.TOTECOSYSC,  ds_1b.TOTECOSYSC, ds_2b.TOTECOSYSC],dim='time')\n",
    "print(da_534)\n",
    "print(da_585)"
   ]
  },
  {
   "cell_type": "code",
   "execution_count": 5,
   "metadata": {},
   "outputs": [],
   "source": [
    "def globalSum ( varIn, area, time, conversion, units ):\n",
    "    \"Global weighted sum of fluxes & states\"\n",
    "    temp = varIn * area * time\n",
    "    temp = temp.sum(dim=('lat','lon'))  * conversion\n",
    "    temp.attrs['long_name']= varIn.attrs['long_name']\n",
    "    temp.attrs['units']= units\n",
    "    #temp = temp.assign_coords({'time': (ds.time)})\n",
    "    return (temp)"
   ]
  },
  {
   "cell_type": "code",
   "execution_count": 17,
   "metadata": {},
   "outputs": [
    {
     "name": "stdout",
     "output_type": "stream",
     "text": [
      "<xarray.DataArray 'TOTECOSYSC' (year: 424)>\n",
      "dask.array<stack, shape=(424,), dtype=float32, chunksize=(1,)>\n",
      "Coordinates:\n",
      "  * year     (year) int64 1850 1851 1852 1853 1854 ... 2294 2295 2296 2297 2298\n",
      "Attributes:\n",
      "    long_name:     total ecosystem carbon, incl veg but excl cpool and produc...\n",
      "    units:         Pg C\n",
      "    cell_methods:  time: mean\n"
     ]
    }
   ],
   "source": [
    "# Create datasets for results.  Anomalies # detrended\n",
    "g534 = globalSum(da_534, area = land_area, time = 1,  conversion = 1e-15, \n",
    "                 units = 'Pg C') \n",
    "g585 = globalSum(da_585, area = land_area, time = 1,  conversion = 1e-15, \n",
    "                 units = 'Pg C') \n",
    "g534  =  g534  - g534[0]\n",
    "g585  =  g585  - g585[0]\n",
    "g534y  = g534.groupby('time.year').mean('time')\n",
    "g585y  = g585.groupby('time.year').mean('time')\n",
    "print(g534y)\n"
   ]
  },
  {
   "cell_type": "code",
   "execution_count": 18,
   "metadata": {},
   "outputs": [
    {
     "data": {
      "image/png": "[encoded data removed]",
      "text/plain": [
       "<Figure size 576x360 with 1 Axes>"
      ]
     },
     "metadata": {
      "needs_background": "light"
     },
     "output_type": "display_data"
    }
   ],
   "source": [
    "plt.figure(figsize=[8,5])\n",
    "plt.ylabel('Change Global Land C ('+g585y.units+')', fontsize='x-large')\n",
    "plt.plot(g585y.year, g585y, lw=3)\n",
    "plt.plot(g534y.year, g534y, lw=3)\n",
    "plt.xlim(1850, 2300)\n",
    "plt.legend(labels=('SSP5-8.5','SSP5-3.4os'), frameon = False, fontsize='x-large')\n",
    "plt.hlines(y=0, xmin=1850, xmax=2300, linestyles='dashed')\n",
    "plt.title('CESM2-WACCM Land C uptake', fontsize='x-large');"
   ]
  },
  {
   "cell_type": "code",
   "execution_count": null,
   "metadata": {},
   "outputs": [],
   "source": []
  },
  {
   "cell_type": "code",
   "execution_count": null,
   "metadata": {},
   "outputs": [],
   "source": []
  }
 ],
 "metadata": {
  "kernelspec": {
   "display_name": "Python [conda env:python-tutorial]",
   "language": "python",
   "name": "conda-env-python-tutorial-py"
  },
  "language_info": {
   "codemirror_mode": {
    "name": "ipython",
    "version": 3
   },
   "file_extension": ".py",
   "mimetype": "text/x-python",
   "name": "python",
   "nbconvert_exporter": "python",
   "pygments_lexer": "ipython3",
   "version": "3.7.3"
  }
 },
 "nbformat": 4,
 "nbformat_minor": 4
}
