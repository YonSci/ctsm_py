{
 "cells": [
  {
   "cell_type": "code",
   "execution_count": 1,
   "metadata": {},
   "outputs": [
    {
     "name": "stderr",
     "output_type": "stream",
     "text": [
      "/glade/u/home/dll/miniconda/envs/analysis/lib/python3.7/site-packages/xarray/core/merge.py:17: FutureWarning: The Panel class is removed from pandas. Accessing it from the top-level namespace will also be removed in the next version\n",
      "  PANDAS_TYPES = (pd.Series, pd.DataFrame, pd.Panel)\n"
     ]
    }
   ],
   "source": [
    "#Use miniconda-analysis environment\n",
    "import numpy as np\n",
    "import xarray as xr\n",
    "import matplotlib.pyplot as plt\n",
    "import co2_timeseries_tools as co2tt\n",
    "from scipy import stats\n",
    "from scipy import signal\n",
    "from ctsm_py import utils"
   ]
  },
  {
   "cell_type": "markdown",
   "metadata": {},
   "source": [
    "### Obs Data"
   ]
  },
  {
   "cell_type": "code",
   "execution_count": 2,
   "metadata": {},
   "outputs": [],
   "source": [
    "path='/glade/work/dll/CTSM_py/notebooks/'\n",
    "brw={'name':'Barrow', 'acronym': 'brw',  'lat': 71.3, 'lon':360-156.61, 'z': 11.0}\n",
    "mlo={'name':'Mauna Loa', 'acronym': 'mlo', 'lat': 19.5, 'lon':360-155.6, 'z':3397.0}\n",
    "alt={'name':'Alert', 'acronym': 'alt', 'lat': 82.5, 'lon':360-62.5, 'z':200.0}\n",
    "azr={'name': 'Azores', 'acronym':'azr','lat':38.8, 'lon':360-27.4, 'z':19.0}\n",
    "cba={'name': 'Cold Bay', 'acronym':'cba', 'lat':55.2, 'lon':360-162.7, 'z':21.3}\n",
    "kum={'name':'Kumukahi', 'acronym':'kum', 'lat':19.7, 'lon':360-155.0, 'z':0.3}\n",
    "ESRL=[brw, mlo, alt, azr, cba, kum]\n",
    "lats=np.array([71.3,19.5,82.5,38.8,55.2,19.7])\n",
    "lons=np.array([360-156.61,360-155.6,360-62.5,360-27.4,360-162.7,360-155.0])\n",
    "#note that the 'lev' variable only goes from 0 to 1000, not sure how to translate from 'alt' to 'lev'\n",
    "alt=np.array([11.0,3397.0,200.0,19.0,21.3,0.3])\n",
    "cesm1levs=np.array([25,20,25,25,25,25])\n",
    "cesm2levs=np.array([31,22,31,31,31,31])"
   ]
  },
  {
   "cell_type": "code",
   "execution_count": 3,
   "metadata": {},
   "outputs": [],
   "source": [
    "minYear = 1981 # minimum year for an 'early' trend, used later for plotting\n",
    "\n",
    "for site in ESRL:\n",
    "#    print(site)\n",
    "    filename=path+'co2_'+site['acronym']+'_surface-flask_1_ccgg_month.txt'\n",
    "    #import glob\n",
    "    #filename=glob.glob(partialname+ '*co2')\n",
    "    with open(filename, 'r') as fid:\n",
    "        first_line=fid.readline()\n",
    "        nheader=first_line[-3:-1]\n",
    "        nheader=np.int(np.float(nheader))\n",
    "    data=np.loadtxt(filename, usecols=(1,2,3), skiprows=nheader)\n",
    "    time=data[:,0]+data[:,1]/12\n",
    "    co2=data[:,2]\n",
    "    month=data[:,1]\n",
    "    year=data[:,0]\n",
    "    site['year']=year\n",
    "    site['month']=month\n",
    "    site['co2']=co2"
   ]
  },
  {
   "cell_type": "markdown",
   "metadata": {},
   "source": [
    "### Problem 1\n",
    "I would like to calculate max - min for each year but can't figure out how to loop over the years.\n",
    "The code below calculates absolute min and max across all years"
   ]
  },
  {
   "cell_type": "code",
   "execution_count": 4,
   "metadata": {},
   "outputs": [
    {
     "name": "stdout",
     "output_type": "stream",
     "text": [
      "98.58000000000004\n",
      "90.74000000000001\n",
      "77.64000000000004\n",
      "80.95999999999998\n",
      "88.39999999999998\n",
      "84.44999999999999\n"
     ]
    }
   ],
   "source": [
    "# I want this for every year\n",
    "for i in range(len(ESRL)):\n",
    "    nyr = ESRL[i][\"co2\"].max() - ESRL[i][\"co2\"].min()\n",
    "    print(nyr)"
   ]
  },
  {
   "cell_type": "code",
   "execution_count": null,
   "metadata": {},
   "outputs": [],
   "source": []
  },
  {
   "cell_type": "code",
   "execution_count": null,
   "metadata": {},
   "outputs": [],
   "source": []
  },
  {
   "cell_type": "code",
   "execution_count": null,
   "metadata": {},
   "outputs": [],
   "source": []
  },
  {
   "cell_type": "markdown",
   "metadata": {},
   "source": [
    "### Model Data"
   ]
  },
  {
   "cell_type": "code",
   "execution_count": 5,
   "metadata": {},
   "outputs": [],
   "source": [
    "simyrs             = \"185001-201412\"\n",
    "var                = \"CO2\"\n",
    "\n",
    "datadir            = \"/glade/p/cesm/lmwg_dev/dll/\"\n",
    "subdir             = \"/atm/proc/tseries/month_1/\"\n",
    "Mod1dir            = \"CESM2_Coupled_NoCrop/\"\n",
    "\n",
    "sim                = \"b.e21.BHIST_BPRP.f09_g17.CMIP6-esm-hist.001\"\n",
    "sim2               = \"b40.20th.1deg.coup.001\""
   ]
  },
  {
   "cell_type": "code",
   "execution_count": 6,
   "metadata": {},
   "outputs": [],
   "source": [
    "data1          = utils.time_set_mid(xr.open_dataset(datadir+Mod1dir+sim+\".cam.h0.\"+var+\".\"+simyrs+\".nc\", decode_times=True), 'time')\n",
    "data2          = utils.time_set_mid(xr.open_dataset(datadir+Mod1dir+sim2+\".cam2.h0.\"+var+\".185001-200512.nc\", decode_times=True), 'time')"
   ]
  },
  {
   "cell_type": "markdown",
   "metadata": {},
   "source": [
    "### Converting CO2 units to ppm"
   ]
  },
  {
   "cell_type": "code",
   "execution_count": 7,
   "metadata": {},
   "outputs": [],
   "source": [
    "#conversion of CESM CO2 to ppm\n",
    "convert = 10.0**6 * 28.966/44.0"
   ]
  },
  {
   "cell_type": "code",
   "execution_count": 8,
   "metadata": {},
   "outputs": [
    {
     "name": "stdout",
     "output_type": "stream",
     "text": [
      "CPU times: user 32.2 s, sys: 1min 45s, total: 2min 18s\n",
      "Wall time: 7min 30s\n"
     ]
    }
   ],
   "source": [
    "%%time\n",
    "CESM1ppm = data2.CO2.sel(time=slice('1950','2014')) * convert\n",
    "CESM2ppm = data1.CO2.sel(time=slice('1950','2014')) * convert\n",
    "\n",
    "CESM1ppm.attrs['units'] = 'ppm'\n",
    "CESM2ppm.attrs['units'] = 'ppm'"
   ]
  },
  {
   "cell_type": "markdown",
   "metadata": {},
   "source": [
    "### Selecting sites for comparison to observations"
   ]
  },
  {
   "cell_type": "code",
   "execution_count": 10,
   "metadata": {},
   "outputs": [],
   "source": [
    "#initialize list using '[]' and dictionary using '{}'\n",
    "CESM1points = {}\n",
    "CESM2points = {}\n",
    "\n",
    "#lat and lon are actual values to pull out, level refers to a specific index, not a value, so requires 'isel'\n",
    "for x in range(6):\n",
    "    CESM1pointloop = CESM1ppm.sel(lat=lats[x], lon=lons[x], method=\"nearest\")\n",
    "    CESM2pointloop = CESM2ppm.sel(lat=lats[x], lon=lons[x], method=\"nearest\")\n",
    "    CESM1pointloop = CESM1pointloop.isel(lev=cesm1levs[x])\n",
    "    CESM2pointloop = CESM2pointloop.isel(lev=cesm2levs[x])\n",
    "    CESM1points[x] = CESM1pointloop\n",
    "    CESM2points[x] = CESM2pointloop"
   ]
  },
  {
   "cell_type": "markdown",
   "metadata": {},
   "source": [
    "### Calculating detrended annual cycle for early and late time periods"
   ]
  },
  {
   "cell_type": "code",
   "execution_count": 11,
   "metadata": {},
   "outputs": [
    {
     "name": "stdout",
     "output_type": "stream",
     "text": [
      "[-1.0892944  -0.72491455 -0.1918335   0.95547485  1.4278259   1.0961609\n",
      "  0.3114624  -0.26135254 -0.56903076 -0.76623535 -0.52960205  0.34158325]\n",
      "<class 'dict'>\n"
     ]
    }
   ],
   "source": [
    "CESM1_ann_early = {}\n",
    "CESM1_ann_late  = {}\n",
    "CESM2_ann_early = {}\n",
    "CESM2_ann_late  = {}\n",
    "CESM1_ann_early_detrend = {}\n",
    "CESM1_ann_late_detrend  = {}\n",
    "CESM2_ann_early_detrend = {}\n",
    "CESM2_ann_late_detrend  = {}\n",
    "\n",
    "for site, data in CESM1points.items():\n",
    "    CESM1late   = data.sel(time=slice('2000','2005'))\n",
    "    CESM1early  = data.sel(time=slice('1980','1985'))\n",
    "    CESM1_ann_late[site] = CESM1late.groupby(\"time.month\").mean()\n",
    "    CESM1_ann_early[site] = CESM1early.groupby(\"time.month\").mean()\n",
    "    CESM1_ann_early_detrend[site] = signal.detrend(CESM1early.groupby(\"time.month\").mean())\n",
    "    CESM1_ann_late_detrend[site] = signal.detrend(CESM1late.groupby(\"time.month\").mean())\n",
    "print(CESM1_ann_early_detrend[1])\n",
    "print(type(CESM1_ann_early_detrend))\n",
    "\n",
    "for site, data in CESM2points.items():\n",
    "    CESM2late   = data.sel(time=slice('2000','2005'))\n",
    "    CESM2early  = data.sel(time=slice('1980','1985'))\n",
    "    CESM2_ann_late[site] = CESM2late.groupby(\"time.month\").mean()\n",
    "    CESM2_ann_early[site] = CESM2early.groupby(\"time.month\").mean()\n",
    "    CESM2_ann_early_detrend[site] = signal.detrend(CESM2early.groupby(\"time.month\").mean())\n",
    "    CESM2_ann_late_detrend[site] = signal.detrend(CESM2late.groupby(\"time.month\").mean())"
   ]
  },
  {
   "cell_type": "code",
   "execution_count": null,
   "metadata": {},
   "outputs": [],
   "source": []
  },
  {
   "cell_type": "markdown",
   "metadata": {},
   "source": [
    "## Problem #2\n",
    "### Detrended plot has oddly high late-season values\n",
    "Bottom plot is detrended. Should I be using a different function? "
   ]
  },
  {
   "cell_type": "markdown",
   "metadata": {},
   "source": [
    "### Absolute value plot"
   ]
  },
  {
   "cell_type": "code",
   "execution_count": 12,
   "metadata": {},
   "outputs": [
    {
     "data": {
      "text/plain": [
       "[<matplotlib.lines.Line2D at 0x2adea7dd5cf8>]"
      ]
     },
     "execution_count": 12,
     "metadata": {},
     "output_type": "execute_result"
    },
    {
     "data": {
      "image/png": "[encoded data removed]",
      "text/plain": [
       "<Figure size 432x288 with 1 Axes>"
      ]
     },
     "metadata": {
      "needs_background": "light"
     },
     "output_type": "display_data"
    }
   ],
   "source": [
    "CESM1_ann_early[0].plot()"
   ]
  },
  {
   "cell_type": "markdown",
   "metadata": {},
   "source": [
    "### Detrended Plot"
   ]
  },
  {
   "cell_type": "code",
   "execution_count": 13,
   "metadata": {},
   "outputs": [
    {
     "data": {
      "text/plain": [
       "[<matplotlib.lines.Line2D at 0x2adea7e7bb38>]"
      ]
     },
     "execution_count": 13,
     "metadata": {},
     "output_type": "execute_result"
    },
    {
     "data": {
      "image/png": "[encoded data removed]",
      "text/plain": [
       "<Figure size 432x288 with 1 Axes>"
      ]
     },
     "metadata": {
      "needs_background": "light"
     },
     "output_type": "display_data"
    }
   ],
   "source": [
    "plt.plot(CESM1_ann_early_detrend[0])"
   ]
  },
  {
   "cell_type": "code",
   "execution_count": null,
   "metadata": {},
   "outputs": [],
   "source": []
  }
 ],
 "metadata": {
  "kernelspec": {
   "display_name": "Python [conda env:miniconda-analysis]",
   "language": "python",
   "name": "conda-env-miniconda-analysis-py"
  },
  "language_info": {
   "codemirror_mode": {
    "name": "ipython",
    "version": 3
   },
   "file_extension": ".py",
   "mimetype": "text/x-python",
   "name": "python",
   "nbconvert_exporter": "python",
   "pygments_lexer": "ipython3",
   "version": "3.7.3"
  }
 },
 "nbformat": 4,
 "nbformat_minor": 4
}
